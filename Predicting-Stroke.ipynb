{
 "cells": [
  {
   "cell_type": "markdown",
   "metadata": {},
   "source": [
    "## Project 1: Predicting stroke with Naive Bayes and K-NN"
   ]
  },
  {
   "cell_type": "code",
   "execution_count": 680,
   "metadata": {},
   "outputs": [],
   "source": [
    "#import\n",
    "import numpy as np\n",
    "import pandas as pd\n",
    "import matplotlib as mpl\n",
    "import sklearn\n",
    "import math"
   ]
  },
  {
   "cell_type": "code",
   "execution_count": 681,
   "metadata": {},
   "outputs": [],
   "source": [
    "# This function should transform data into a usable format \n",
    "def preprocess():\n",
    "    csvdata = pd.read_csv('stroke_update.csv',header = 0)\n",
    "    return csvdata"
   ]
  },
  {
   "cell_type": "code",
   "execution_count": 682,
   "metadata": {
    "scrolled": false
   },
   "outputs": [],
   "source": [
    "# This function should split a data set into a training set and hold-out test set\n",
    "#ratio up to 1 e.g.0.8\n",
    "def split_data(csvdata, trainRatio):\n",
    "    #Transform numeric attributes to nominal for avg_glucose_level,bmi,age\n",
    "    csvdata[\"avg_glucose_level\"] = pd.qcut(csvdata[\"avg_glucose_level\"], q=10)\n",
    "    csvdata[\"bmi\"] = pd.qcut(csvdata[\"bmi\"], q=10)\n",
    "    csvdata[\"age\"] = pd.qcut(csvdata[\"age\"], q=10)\n",
    "\n",
    "    csvdata = csvdata.sample(frac=1).reset_index(drop=True)\n",
    "    dshape = csvdata.shape[0]\n",
    "    trainRow = int(dshape*trainRatio)\n",
    "    trainSet = csvdata[0:trainRow]\n",
    "    testSet = csvdata[trainRow:]\n",
    "    trainLabel = trainSet.drop(columns=trainSet.columns.difference(['stroke']))\n",
    "    trainSet = trainSet.drop(columns=\"stroke\")\n",
    "    testLabel = testSet.drop(columns=testSet.columns.difference(['stroke']))\n",
    "    testSet = testSet.drop(columns=\"stroke\")\n",
    "    return trainSet.values.tolist(), testSet.values.tolist(), trainLabel['stroke'].tolist(), testLabel['stroke'].tolist()"
   ]
  },
  {
   "cell_type": "code",
   "execution_count": 683,
   "metadata": {},
   "outputs": [],
   "source": [
    "# This function should build a supervised NB model\n",
    "#for native bayes implement from scratch\n",
    "def train(trainSet, trainLabel):\n",
    "    #prior\n",
    "    tl = np.array(trainLabel)\n",
    "    tl_0 = np.count_nonzero(tl == 0)\n",
    "    tl_1 = np.count_nonzero(tl == 1)\n",
    "    prior = [tl_0,tl_1]\n",
    "    #likelihood\n",
    "    #set dictionary \n",
    "    likelihood = {0:{},1:{}}\n",
    "    for key in likelihood.keys():\n",
    "        for column in range(len(trainSet[0])):\n",
    "            likelihood[key][column]={}\n",
    "            cldict = set([i[column] for i in trainSet])\n",
    "            likelihood[key][column] = {j:0 for j in cldict}\n",
    "    \n",
    "    #count and push to dictionary\n",
    "    for i, row in enumerate(trainSet):#use enumerate to get index\n",
    "        for j, column in enumerate(trainSet[i]):#use enumerate to get index\n",
    "            likelihood[trainLabel[i]][j][column] += 1\n",
    "\n",
    "    #likelihood div plus epsilons\n",
    "    for i in range(0,2):\n",
    "        for j in likelihood[i].keys():\n",
    "            for val in likelihood[i][j]:\n",
    "                if likelihood[i][j][val] > 0:\n",
    "                    likelihood[i][j][val] = likelihood[i][j][val] / prior[i]\n",
    "                else:\n",
    "                    likelihood[i][j][val] = 1/(math.e**10)*len(trainSet)\n",
    "    return prior, likelihood"
   ]
  },
  {
   "cell_type": "code",
   "execution_count": 684,
   "metadata": {},
   "outputs": [],
   "source": [
    "# This function should predict the class for an instance or a set of instances, based on a trained model \n",
    "# epsilon is smaller value than 1/N where N is the number of trainSet instances\n",
    "#log prediction\n",
    "def predict(testSet, prior, likelihood):\n",
    "    prediction = np.array([])\n",
    "    #each row of testSet\n",
    "    for row in testSet:\n",
    "        priorProbabilityArray = []\n",
    "        for i in range(len(prior)):\n",
    "            #prior probability\n",
    "            priorProbability = math.log(prior[i]/sum(prior))\n",
    "            for j, f in enumerate(row):\n",
    "                if f in likelihood[i][j]:\n",
    "                    priorProbability = priorProbability + math.log(likelihood[i][j][f])\n",
    "            priorProbabilityArray.append(priorProbability)\n",
    "        prediction = np.append(prediction, np.argmax([priorProbabilityArray]))\n",
    "    return prediction"
   ]
  },
  {
   "cell_type": "code",
   "execution_count": 685,
   "metadata": {},
   "outputs": [],
   "source": [
    "from sklearn import metrics\n",
    "def evaluate(prediction, testLabel):\n",
    "    confusion = metrics.confusion_matrix(testLabel, prediction) # Confusion Matrix\n",
    "    accuracy = metrics.accuracy_score(testLabel, prediction) # Accuracy\n",
    "    precf1 = metrics.precision_recall_fscore_support(testLabel, prediction) # Precision, Recall and F1-score\n",
    "    return confusion, accuracy, precf1"
   ]
  },
  {
   "cell_type": "code",
   "execution_count": 686,
   "metadata": {
    "scrolled": false
   },
   "outputs": [
    {
     "name": "stdout",
     "output_type": "stream",
     "text": [
      "(array([[379,  69],\n",
      "       [ 55,  45]]), 0.7737226277372263, (array([0.87327189, 0.39473684]), array([0.84598214, 0.45      ]), array([0.85941043, 0.42056075]), array([448, 100])))\n"
     ]
    }
   ],
   "source": [
    "#run\n",
    "trainSet, testSet, trainLabel, testLabel = split_data(preprocess(), 0.8)\n",
    "prior, likelihood = train(trainSet, trainLabel)\n",
    "prediction = predict(testSet, prior, likelihood)\n",
    "print(evaluate(prediction, testLabel))"
   ]
  },
  {
   "cell_type": "markdown",
   "metadata": {},
   "source": [
    "## Questions (you may respond in a cell or cells below):\n",
    "\n",
    "You should respond to questions 1-4. In question 2 (b) you can choose between two options. A response to a question should take about 100--200 words, and make reference to the data wherever possible.\n",
    "\n",
    "### Question 1: Data exploration\n",
    "\n",
    "- a) Explore the data and summarise different aspects of the data. Can you see any interesting characteristic in features, classes or categories? What is the main issue with the data? Considering the issue, how would the Naive Bayes classifier work on this data? Discuss your answer based on the Naive Bayes' formulation.\n",
    "- b) Is accuracy an appropriate metric to evaluate the models created for this data? Justify your answer. Explain which metric(s) would be more appropriate, and contrast their utility against accuracy. [no programming required]\n",
    "\n"
   ]
  },
  {
   "cell_type": "code",
   "execution_count": 687,
   "metadata": {},
   "outputs": [
    {
     "data": {
      "image/png": "[encoded data removed]",
      "text/plain": [
       "<Figure size 432x288 with 1 Axes>"
      ]
     },
     "metadata": {
      "needs_background": "light"
     },
     "output_type": "display_data"
    },
    {
     "data": {
      "image/png": "[encoded data removed]",
      "text/plain": [
       "<Figure size 432x288 with 1 Axes>"
      ]
     },
     "metadata": {
      "needs_background": "light"
     },
     "output_type": "display_data"
    },
    {
     "data": {
      "image/png": "[encoded data removed]",
      "text/plain": [
       "<Figure size 432x288 with 1 Axes>"
      ]
     },
     "metadata": {
      "needs_background": "light"
     },
     "output_type": "display_data"
    },
    {
     "data": {
      "image/png": "[encoded data removed]",
      "text/plain": [
       "<Figure size 432x288 with 1 Axes>"
      ]
     },
     "metadata": {
      "needs_background": "light"
     },
     "output_type": "display_data"
    },
    {
     "data": {
      "image/png": "[encoded data removed]",
      "text/plain": [
       "<Figure size 432x288 with 1 Axes>"
      ]
     },
     "metadata": {
      "needs_background": "light"
     },
     "output_type": "display_data"
    }
   ],
   "source": [
    "import numpy as np\n",
    "import pandas as pd\n",
    "import matplotlib.pyplot as plt\n",
    "import math\n",
    "#show imbalance\n",
    "def graph(csvdata):\n",
    "    #divide into classes using bin based on range\n",
    "    csvdata = np.array(csvdata.values.tolist())\n",
    "    csvdata = np.transpose(csvdata)\n",
    "    csvdata[0] = csvdata[0].astype(np.float)\n",
    "    csvdata[1] = csvdata[1].astype(np.float)\n",
    "    csvdata[2] = csvdata[2].astype(np.float)\n",
    "    \n",
    "    plt.title(\"bmi\")\n",
    "    plt.hist(csvdata[1], bins=10)\n",
    "    plt.show()\n",
    "    plt.title(\"gender\")\n",
    "    plt.hist(csvdata[3])\n",
    "    plt.show()\n",
    "    plt.title(\"hypertension\")\n",
    "    plt.hist(csvdata[4])\n",
    "    plt.show()\n",
    "    plt.title(\"heart_disease\")\n",
    "    plt.hist(csvdata[5])\n",
    "    plt.show()\n",
    "    plt.title(\"stroke\")\n",
    "    plt.hist(csvdata[10])\n",
    "    plt.show()\n",
    "\n",
    "graph(preprocess())"
   ]
  },
  {
   "cell_type": "markdown",
   "metadata": {},
   "source": [
    "a) \n",
    "In this data, there are 10 attributes that consists of 3 numeric (avg_glucose_level, bmi, age) and 7 categorical attributes, as well as having 2 classes for the stroke outcomes. Stroke = 1 data appeared in last part of the csv file so data must be shuffled in order to randamise sample. To implement Naive Bayes, each attribute formart, such as numeric, needs to be converted into different data type accordingly. To use categorical naive bayes, numeric can be converted into different classes of range. The main issue of this data is imbalance of each attributes. For example, from graph of stroke, the number of stroke, heart disease, hypertension, gender and others are populated unevenly. This is a problem becasue classification learning algorithm predict based on the training instances and if there is infrequent class, the algorithm is more likely to produce wrong prediction.\n",
    "\n",
    "b)Accuracy is a metric how often the prediction is correct. High accuracy means that less false positive and false negative. In this data, accuracy works fine because stroke is 2 classes either 0 (no) or 1 (yes). Precision is a metric how the model is good at predicting instances to be interesting. High presicion means that the model does not pick many false positive to be insteresting. Recall is a metric how the model is good at predicting instances without missing interesting instances. High recall means that the model does not pick many false negative; the model doesnt predict insteresting instances as uninsteresting very often. F-score is a metric that combine precision and recall. High F-score would give us low false positive and false negative. It is possible that high precision or high recall, but it is not accurate. F-score and accuracy are related but different usage; when true positive and true negative are important, accuracy can be used but when we cannot accept false negative and false positive, F-score would be suitable. In this data, stroke should not be predicted as false negative or false positive, F-score might be the best option. "
   ]
  },
  {
   "cell_type": "markdown",
   "metadata": {},
   "source": [
    "### Question 2: Naive Bayes concepts and formulation\n",
    "\n",
    "- a) Explain the independence assumption underlying Naive Bayes. What are the advantages and disadvantages of this assumption? Elaborate your answers using the features of the provided data. [no programming required]\n",
    "- b) Implement the Naive Bayes classifier. You need to decide how you are going to apply Naive Bayes for nominal and numeric attributes. You can combine both Gaussian and Categorical Naive Bayes (option 1) or just using Categorical Naive Bayes (option 2). Explain your decision. For Categorical Naive Bayes, you can choose either epsilon or Laplace smoothing for this calculation. Evaluate the classifier using accuracy and appropriate metric(s) on test data. Explain your observations on how the classifiers have performed based on the metric(s). Discuss the performance of the classifiers in comparison with the Zero-R baseline.\n",
    "- c) Explain the difference between epsilon and Laplace smoothing. [no programming required]"
   ]
  },
  {
   "cell_type": "code",
   "execution_count": 688,
   "metadata": {},
   "outputs": [
    {
     "data": {
      "text/plain": [
       "(array([[435,   0],\n",
       "        [113,   0]]),\n",
       " 0.7937956204379562,\n",
       " (array([0.79379562, 0.        ]),\n",
       "  array([1., 0.]),\n",
       "  array([0.88504578, 0.        ]),\n",
       "  array([435, 113])))"
      ]
     },
     "execution_count": 688,
     "metadata": {},
     "output_type": "execute_result"
    }
   ],
   "source": [
    "def ZeroR(prior, testSet):\n",
    "    if(prior[0]>=prior[1]):\n",
    "        zeroRprediction = [0]*len(testSet)\n",
    "    else:\n",
    "        zeroRprediction = [1]*len(testSet)\n",
    "    return zeroRprediction\n",
    "\n",
    "trainSet, testSet, trainLabel, testLabel = split_data(preprocess(), 0.8)\n",
    "prior, likelihood = train(trainSet, trainLabel)\n",
    "zeroRprediction = ZeroR(prior, testSet)\n",
    "evaluate(zeroRprediction, testLabel)"
   ]
  },
  {
   "cell_type": "markdown",
   "metadata": {},
   "source": [
    "a) The naive assumption made in Naive Bayes is conditional independence assumption that assume given features are independent to each other. This assumption simplifies the expression that use chain rule and conditional probability to simple models with easier product of probability. However, this assumption is not realistic since the dependencies between attributes are likely to exist in real life. Thus, it may not be accurate. For example, the provided data has hypertension and heart disease attributes. They are likely to be related to each other as having hypertension may raise stroke and heart disease as well as heart disease may do the same to stroke and hypertension, so the assumption may work well. \n",
    "\n",
    "b) I used catergorical naive bayes and epsilon smoothing for calculation of Naive Bayes. I used bin to divide numeric data into different classes based on quantity of frequency to distribute events evenly. I set epsilon smoothing at 1/(e^10)*N where N is the number of training instances, because epsilon need to be set at less than 1/N to make it very small and if the training instance is larger, 1/(e^10) may not be smaller than 1/N. \n",
    "The average accuracy of the native bayes (run 10 times) is at 0.78 when 50%,80% and 90% of data was used for training. \n",
    "The confusion matrix shows that [374,74],[47,53] when 80% of data was used for training. 121/548 = 22.08%. It produces 22.08% of Error rate. The F score is [0.85941043,0.42056075] for class 0 and 1. for class 0 it shows 0.86 fscore while for class 1 it show 0.42 fscore.\n",
    "On the other hand, while zero R produces around 80% of accuracy to predict stroke = 0, when it comes to predict stroke = 1, zero R predicts around 20% of accuracy. The f-score of zero r baseline of class 0 and 1 is calculated as [0.88504578, 0]. Since positive diagnosis is more important in prediction, native bayes performs better predictions than zero R based on accuracy, confusion matrix and f-score metrics.\n",
    "\n",
    "\n",
    "c)  Both epsilon and laplace smoothing are used to prevent 0 value of probability. As naive bayes use product of probability, if there is any 0 value of possibility, all other meaningful observation will be irrelevant. Epsilon smoothing takes a simple approach to solve this by replacing 0 to the small value which is smaller than 1/N where N is number of training instances to reduce comparisons to the cardinality of it. On the other hand, Laplace smoothing add psudocount to each feature count not to produce 0. However, this may reduce variance of NB classifier and add bias as it reduce sensitivity. Also, when there is few instances, the probability may change a lot. "
   ]
  },
  {
   "cell_type": "markdown",
   "metadata": {},
   "source": [
    "### Question 3: Model Comparison\n",
    "- a) Implement the K-NN classifier, and find the optimal value for K. \n",
    "- b) Based on the obtained value for K in question 4 (a), evaluate the classifier using accuracy and chosen metric(s) on test data. Explain your observations on how the classifiers have performed based on the metric(s). Discuss the performance of the classifiers in comparison with the Zero-R baseline.\n",
    "- c) Compare the classifiers (Naive Bayes and K-NN) based on metrics' results. Provide a comparatory discussion on the results. [no programming required]"
   ]
  },
  {
   "cell_type": "code",
   "execution_count": 766,
   "metadata": {},
   "outputs": [
    {
     "name": "stdout",
     "output_type": "stream",
     "text": [
      "[[408  37]\n",
      " [ 69  34]] 0.8065693430656934 (array([0.85534591, 0.47887324]), array([0.91685393, 0.33009709]), array([0.88503254, 0.3908046 ]), array([445, 103]))\n"
     ]
    },
    {
     "data": {
      "image/png": "[encoded data removed]",
      "text/plain": [
       "<Figure size 720x432 with 1 Axes>"
      ]
     },
     "metadata": {
      "needs_background": "light"
     },
     "output_type": "display_data"
    }
   ],
   "source": [
    "#knn classifier training\n",
    "#need to optimise kNN (finding the best k) based on some kind of evaluation metric. \n",
    "from sklearn.neighbors import KNeighborsClassifier\n",
    "#set up all data for knn\n",
    "def knnDataSetup(csvdata):\n",
    "    #One-hot transformation\n",
    "    newdata = pd.DataFrame()\n",
    "    for column in csvdata.columns:\n",
    "            if column == 'stroke' or column == 'avg_glucose_level' or column == 'bmi' or column == 'age':\n",
    "                newdata = pd.concat([newdata, csvdata[column]], axis=1)\n",
    "                continue\n",
    "            newdata = pd.concat([newdata, pd.get_dummies(csvdata[column], prefix=column, drop_first=True)], axis=1)\n",
    "    #shuffle data and split\n",
    "    newdata = newdata.sample(frac=1).reset_index(drop=True)\n",
    "    dshape = newdata.shape[0]\n",
    "    trainRow = int(dshape*0.8)\n",
    "    trainSet = newdata[0:trainRow]\n",
    "    testSet = newdata[trainRow:].reset_index(drop=True)\n",
    "    #split label and instances\n",
    "    trainLabel = trainSet.drop(columns=trainSet.columns.difference(['stroke']))\n",
    "    train = trainSet.drop(columns=\"stroke\")\n",
    "    testLabel = testSet.drop(columns=testSet.columns.difference(['stroke']))\n",
    "    test = testSet.drop(columns=\"stroke\")\n",
    "    return trainLabel, train, testLabel, test\n",
    "\n",
    "#return knn prediction\n",
    "def knnPrediction(trainLabel, train, test, n):\n",
    "    #training and prediction\n",
    "    classifier = KNeighborsClassifier(n_neighbors = n)\n",
    "    classifier.fit(train, trainLabel['stroke'].tolist())\n",
    "    prediction = classifier.predict(test)\n",
    "    return prediction\n",
    "\n",
    "#return optimal value of K\n",
    "def optimalK(trainLabel, train, testLabel, test):\n",
    "    #accuracyRate array to store accuracy of each k value\n",
    "    accuracyRate = []\n",
    "    for i in range(1,40):\n",
    "        prediction = knnPrediction(trainLabel, train, test, i)\n",
    "        confusion, accuracy, precf1 = evaluate(prediction, testLabel['stroke'].tolist())\n",
    "        accuracyRate.append(accuracy)\n",
    "    \n",
    "    #plot to display visual graph\n",
    "    plt.figure(figsize=(10,6))\n",
    "    plt.plot(range(1,40),accuracyRate,color = 'blue',linestyle='dashed', marker='o',markerfacecolor='red', markersize=10)\n",
    "    plt.title('accuracy vs k')\n",
    "    plt.xlabel('k')\n",
    "    plt.ylabel('accuracy')\n",
    "    return accuracyRate.index(max(accuracyRate))\n",
    "\n",
    "#run\n",
    "csvdata = preprocess()\n",
    "trainLabel, train, testLabel, test = knnDataSetup(csvdata)\n",
    "k = optimalK(trainLabel, train, testLabel, test)\n",
    "prediction = knnPrediction(trainLabel, train, test, k)\n",
    "\n",
    "confusion, accuracy, precf1 = evaluate(prediction, testLabel['stroke'].tolist())\n",
    "print (confusion, accuracy, precf1)"
   ]
  },
  {
   "cell_type": "markdown",
   "metadata": {},
   "source": [
    "a) implemented above. Use for loop to find highest accuracy by changing K value. optimalK function will output the optimal value of K and graph to visually see how accurate it is. \n",
    "\n",
    "b) The knn gives [408,37][69,34] of confusion matrix. The accuracy is 0.8065693430656934 = 80.66%, meaning that 105/548 = 0.191605... = 19.16% of error rate (false positive and false negative). the precision was [0.91685393, 0.33009709] and the recall was [0.88503254, 0.3908046 ]. the f score was [0.88503254, 0.3908046]. while zero R produces around 80% of accuracy to predict stroke = 0, when it predict stroke = 1, zero R predicts around 20% of accuracy. The f-score of zero r is [0.88504578,0]. It is obvious that the most important function is to detect stroke = 1, and 20% of zero-r baseline's accuracy is way too low than knn accuracy 80%. Also, zero r shows 0 for f-score of class 1, which is lower than knn's fscore of class 1 that is 0.39. Thus, knn performs better in comparison to zero-r.\n",
    "\n",
    "c) Based on the result of naive bayes from the question 2, the confusion matrix is [379,69],[55,45], the accuracy is 0.7737226277372263 = 77.37%, the precision = [0.87327189,0.39473684], the recall = [0.84598214,0.45] and fscore is [0.85941043,0.42056075]. Looking at the result from the question 3, the accuracy of the naive bayes is lower than the knn's and the error rate of the naive bayes is higher than knn's based on this result. However, when looking at f-score of both naive bayes and knn, while knn's f-score of class 0 is higher than naive bayes, naive bayes's f-score of class 1 is better than knn's. In this algorithm, positive diagnosis is more important and false positive/false negative should be minimised. Thus, naive bayes is preferable algorithm in this data based on the result on my environment."
   ]
  }
 ],
 "metadata": {
  "kernelspec": {
   "display_name": "Python 3 (ipykernel)",
   "language": "python",
   "name": "python3"
  },
  "language_info": {
   "codemirror_mode": {
    "name": "ipython",
    "version": 3
   },
   "file_extension": ".py",
   "mimetype": "text/x-python",
   "name": "python",
   "nbconvert_exporter": "python",
   "pygments_lexer": "ipython3",
   "version": "3.10.9"
  }
 },
 "nbformat": 4,
 "nbformat_minor": 2
}
